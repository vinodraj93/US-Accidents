{
 "cells": [
  {
   "cell_type": "markdown",
   "metadata": {},
   "source": [
    "# DSCI 521: Data Analysis and Interpretation <br> Term Project Phase 1: Scoping an analytics project"
   ]
  },
  {
   "cell_type": "markdown",
   "metadata": {},
   "source": [
    "## The big picture\n",
    "Welcome to your term project! This is the first portion of a two-part, open-ended team assignment. It will culminate in a presentation during the last week of class or the regularly scheduled final exam period. \n",
    "\n",
    "Overall, this term project is intended to provide some open-ended experience with exploring datasets for possible associations, relationships, and predictive capacities. This will then be followed up with the execution more complex and intensive analysis that prototypes the function of a potential application or underpin an empirical finding. Specifically, all projects for this course will entail the following two phases:\n",
    "\n",
    "1. A topically-motivated exploration of available pre-processed datasets, i.e., exploratory data analyses. \n",
    "2. Interpreting the outcome of phase (1), the selection and execution of a more in depth analytics project, prototyping an application's function or empirical investigation.\n",
    "\n",
    "The first report on your team's project will summarize any visual and quantitative exploratory findings from (1) and outline and motivate a course for (2). So this first phase should include both a discussion of the __availability and scale of the project's target data__ and an exploratory analysis and discussion of __why it may be possible to conduct the target analysis__, including any relevant pre-built technologies and tools that will make it possible, and how. Additionally, this inital project planning report should speculate and provide examples for potential analytic outcomes and how we might interpret and build from them, whether towards academic or commercial outcomes.\n",
    "\n",
    "__Note__: All reports should inclue a high level abstract/discussion in a tone that is set for a completely diverse audience.\n",
    "\n",
    "At the end of the term, your group will provide a final report that recaps progress at the task you're group has come up with, specifically revisiting what you _thought_ the results of the in depth analysis would be, as compared to the actual work involved, obstacles encountered, and results obtained.\n",
    "\n",
    "__Important__: because your project reports will have discussion intermingled with data and code as output, I not only request the  submission of your work in Jupyter Notebooks format, but additionly recommend conducting your work as a group collaboratively in Jupyter notebooks."
   ]
  },
  {
   "cell_type": "markdown",
   "metadata": {},
   "source": [
    "## This is only a guideline\n",
    "\n",
    "While this document provides some idea of structure and expectation for your project it is important to note that this is an intentionally open-ended project. Hence, no specific rubric is provided. The courses of different projects will require overcoming different obstacles, and success in a data science project is ultimately a (partial) function of a team's abaility to adapt to project needs. However, all work should be well documented, articulately presented, and justified. If at any point it is unclear what to do or how to represent your project's work, please do not hesitate to ask your instructor for direction."
   ]
  },
  {
   "cell_type": "markdown",
   "metadata": {},
   "source": [
    "## Your team\n",
    "\n",
    "The first thing you'll have to do in this phase is organize into a project team. Data science is often conducted in teams, with different team members covering the diversity of knowledge and skills relevant to the different areas that a project must support to succeed. Be sure to consider the strengths of your teamates and interests for gaining experience with analytics&mdash;if you want extensive experience with network modeling, pitch a project about this with a few other points of interest. It will help to discuss interests. Be sure to write out the names of the project team's members in your first report and answer the two questions:\n",
    "\n",
    "1. What areas/skills/domains does the team member presently identify with?\n",
    "2. Into which areas/skills/domains would the team member like to grow?"
   ]
  },
  {
   "cell_type": "markdown",
   "metadata": {},
   "source": [
    "## Your topic\n",
    "The course of your project will be determined by a few things:\n",
    "\n",
    "1. the motivations present in your project's team,\n",
    "2. the availability of relevant pre-processed data,\n",
    "3. an exploratory motivation for in-depth analysis, and\n",
    "4. synnergies with appropriate tools and quantitative frameworks. \n",
    "\n",
    "Thus, choosing your topic is closely tied to your team, the data you are able to identify, and trends/tools you are able to utilize. To start, discuss the domain interests present on your project team. Te get you on your way, let's start with two questions:\n",
    "\n",
    "1. Is there an aspect of the IoT, natural world, society, literature, or art, etc. that you would like to investigate computationally through some avaliable, pre-processed, and hopefully relevant data? \n",
    "\n",
    "2. What sort of analytic tools and data-medium are you interested to work with?\n",
    "\n",
    "Whatever the direction you set for your project please make sure you document it well, keeping track of how its objectives and strategies change as you encounter available materials and other existing work."
   ]
  },
  {
   "cell_type": "markdown",
   "metadata": {},
   "source": [
    "## What you're responsible for in this phase\n",
    "So here's the goal for phase 1. You must:\n",
    "\n",
    "> Conduct an extensive exploratory data analysis focused on an identified topic and potentially relevant, available datasets, addressing their capacities for a more in-depth analysis. \n",
    "\n",
    "This phase of the project will set expectations and a work plan for your project's in-depth analysis. Not only should you scope the utility of available datasets, but identify potential avenues of continued study towards either an analytically-backed application or empirical finding. \n",
    "\n",
    "For many DSCI 521 projects, a source of poject data may be pre-processed materials derived from a previous DSCI 511 term project, as those are focused on dataset construction. If this is the case, please clearly indicate the work that this project builds from, in additon to the final state the dataset was in when your group resumed work. No matter what, this project's deliverables are the same&mdash;regardless of dataset sources!"
   ]
  },
  {
   "cell_type": "markdown",
   "metadata": {},
   "source": [
    "### Phase 1 report checklist\n",
    "Here's a checklist of items that you _absolutely_ should include:\n",
    "\n",
    "1. [ ] a background report on the team's members, their self-identified skills, and individual contributions\n",
    "- [ ] a discussion of what you would like to your analysis to do, who/what it will support\n",
    "- [ ] an exhibition of analyses from dataset(s) explored, including visual analyses, captions, and useful descripitions\n",
    "- [ ] a discussion of who might be interested in your analysis\n",
    "- [ ] a discussion of how your analysis might fit into an application or investigation\n",
    "- [ ] a discussion of how your analysis is limited and could be improved\n",
    "- [ ] a selection of data for continued analysis, including justification\n",
    "- [ ] a discussion of how your analysis might be completed and disseminated, i.e., who's the target audience?\n",
    "\n",
    "Additionally, by the end of the term your final report should inlcude items like\n",
    "1. [ ] a README.md that describes what is present in the project analysis and how it may be repeated\n",
    "- [ ] code that documents your analysis&mdash;your instructor should be able to re-run the analysis!\n",
    "- [ ] tables, figures, and discussion supporting the analysis' interpretation\n",
    "\n",
    "_Note_: These are not exhaustive lists of topics or tasks worth covering in your project. In general, if there's something interesting about your project, whether relating to the source data's construction, existence, or novelty of the tergeted tools and applications, or _anything else_, then be sure to document it!"
   ]
  },
  {
   "cell_type": "code",
   "execution_count": null,
   "metadata": {},
   "outputs": [],
   "source": []
  }
 ],
 "metadata": {
  "kernelspec": {
   "display_name": "Python 3",
   "language": "python",
   "name": "python3"
  },
  "language_info": {
   "codemirror_mode": {
    "name": "ipython",
    "version": 3
   },
   "file_extension": ".py",
   "mimetype": "text/x-python",
   "name": "python",
   "nbconvert_exporter": "python",
   "pygments_lexer": "ipython3",
   "version": "3.7.3"
  }
 },
 "nbformat": 4,
 "nbformat_minor": 2
}
