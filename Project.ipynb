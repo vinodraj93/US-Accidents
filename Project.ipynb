{
 "cells": [
  {
   "cell_type": "markdown",
   "metadata": {},
   "source": [
    "# DSCI-521 Project Scoping"
   ]
  },
  {
   "cell_type": "markdown",
   "metadata": {
    "colab_type": "text",
    "id": "euZHbCl80Q8i"
   },
   "source": [
    "# Team Members\n",
    "\n",
    "1.Name:Rishabh Arora         <br>\n",
    "  Skills: Python, Data Analysis      <br>\n",
    "  Contribution: All  <br>\n",
    "\n",
    "2.Name: Madhura Pande   <br> \n",
    "  Skills:  Python, Machine Learning, Data Analysis  <br>\n",
    "  Contribution: All  <br>\n",
    "\n",
    "3.Name: Yagna Ganesh Easwaran   <br>\n",
    "  Skills: Python, Data Analysis  <br>\n",
    "  Contribution: All  <br>\n",
    "\n",
    "4.Name:Vinod Raj Balraj  <br>\n",
    "  Skills:Python and Data Analysis   <br>\n",
    "  Contribution: All  <br>\n"
   ]
  },
  {
   "cell_type": "markdown",
   "metadata": {
    "colab_type": "text",
    "id": "aXLV3iWtACC9"
   },
   "source": [
    "# Identified Dataset\n",
    "\n",
    "We are going to use the US accidents dataset. It contains approximately 3 millions records of accidents and their information, happening across US\n",
    "\n",
    "The link to the data is here :\n",
    "https://www.kaggle.com/sobhanmoosavi/us-accidents"
   ]
  },
  {
   "cell_type": "markdown",
   "metadata": {
    "colab_type": "text",
    "id": "e6JxfkEomDWS"
   },
   "source": [
    "# Data Analysis\n",
    "The dataset consists of traffic accidents between Feb 2016 to Dec 2019 across all the states in US. This Analysis would help in identifying the major cause for road accidents in United States. We like to analyze and interpret these accidents data to find accident prone locations, casualties and also how weather or enviroment have impact over the accident occurance. It will support in estimating causes for accident predictions.\n",
    "\n"
   ]
  },
  {
   "cell_type": "markdown",
   "metadata": {
    "colab_type": "text",
    "id": "ZHdAhMKjmZzo"
   },
   "source": [
    "# Exhibition of Analysis"
   ]
  },
  {
   "cell_type": "code",
   "execution_count": 1,
   "metadata": {
    "colab": {
     "base_uri": "https://localhost:8080/",
     "height": 1000
    },
    "colab_type": "code",
    "id": "ZMmwu2q7mrMJ",
    "outputId": "94cf737c-1e3b-4d9a-b581-423201445847"
   },
   "outputs": [
    {
     "name": "stdout",
     "output_type": "stream",
     "text": [
      "Shape of the Dataset\n",
      "(2974335, 49)\n",
      "\n",
      "\n",
      "\n",
      "Variables in the Dataset\n",
      "Index(['ID', 'Source', 'TMC', 'Severity', 'Start_Time', 'End_Time',\n",
      "       'Start_Lat', 'Start_Lng', 'End_Lat', 'End_Lng', 'Distance(mi)',\n",
      "       'Description', 'Number', 'Street', 'Side', 'City', 'County', 'State',\n",
      "       'Zipcode', 'Country', 'Timezone', 'Airport_Code', 'Weather_Timestamp',\n",
      "       'Temperature(F)', 'Wind_Chill(F)', 'Humidity(%)', 'Pressure(in)',\n",
      "       'Visibility(mi)', 'Wind_Direction', 'Wind_Speed(mph)',\n",
      "       'Precipitation(in)', 'Weather_Condition', 'Amenity', 'Bump', 'Crossing',\n",
      "       'Give_Way', 'Junction', 'No_Exit', 'Railway', 'Roundabout', 'Station',\n",
      "       'Stop', 'Traffic_Calming', 'Traffic_Signal', 'Turning_Loop',\n",
      "       'Sunrise_Sunset', 'Civil_Twilight', 'Nautical_Twilight',\n",
      "       'Astronomical_Twilight'],\n",
      "      dtype='object')\n",
      "\n",
      "\n",
      "\n",
      "NA values count\n"
     ]
    },
    {
     "data": {
      "text/plain": [
       "ID                             0\n",
       "Source                         0\n",
       "TMC                       728071\n",
       "Severity                       0\n",
       "Start_Time                     0\n",
       "End_Time                       0\n",
       "Start_Lat                      0\n",
       "Start_Lng                      0\n",
       "End_Lat                  2246264\n",
       "End_Lng                  2246264\n",
       "Distance(mi)                   0\n",
       "Description                    1\n",
       "Number                   1917605\n",
       "Street                         0\n",
       "Side                           0\n",
       "City                          83\n",
       "County                         0\n",
       "State                          0\n",
       "Zipcode                      880\n",
       "Country                        0\n",
       "Timezone                    3163\n",
       "Airport_Code                5691\n",
       "Weather_Timestamp          36705\n",
       "Temperature(F)             56063\n",
       "Wind_Chill(F)            1852623\n",
       "Humidity(%)                59173\n",
       "Pressure(in)               48142\n",
       "Visibility(mi)             65691\n",
       "Wind_Direction             45101\n",
       "Wind_Speed(mph)           440840\n",
       "Precipitation(in)        1998358\n",
       "Weather_Condition          65932\n",
       "Amenity                        0\n",
       "Bump                           0\n",
       "Crossing                       0\n",
       "Give_Way                       0\n",
       "Junction                       0\n",
       "No_Exit                        0\n",
       "Railway                        0\n",
       "Roundabout                     0\n",
       "Station                        0\n",
       "Stop                           0\n",
       "Traffic_Calming                0\n",
       "Traffic_Signal                 0\n",
       "Turning_Loop                   0\n",
       "Sunrise_Sunset                93\n",
       "Civil_Twilight                93\n",
       "Nautical_Twilight             93\n",
       "Astronomical_Twilight         93\n",
       "dtype: int64"
      ]
     },
     "execution_count": 1,
     "metadata": {},
     "output_type": "execute_result"
    }
   ],
   "source": [
    "import pandas as pd\n",
    "import matplotlib.pyplot as plt\n",
    "\n",
    "acci = pd.read_csv(\"US_Accidents_Dec19.csv\")\n",
    "print('Shape of the Dataset')\n",
    "print(acci.shape)\n",
    "print('\\n\\n')\n",
    "print('Variables in the Dataset')\n",
    "print(acci.columns)\n",
    "print('\\n\\n')\n",
    "print('NA values count')\n",
    "len(acci) - acci.count()\n",
    "\n"
   ]
  },
  {
   "cell_type": "code",
   "execution_count": 2,
   "metadata": {
    "colab": {
     "base_uri": "https://localhost:8080/",
     "height": 312
    },
    "colab_type": "code",
    "id": "Vj55aG0GmsAf",
    "outputId": "14694369-2c75-430c-89a1-fa96aeede4cb"
   },
   "outputs": [
    {
     "data": {
      "image/png": "[encoded data removed]",
      "text/plain": [
       "<Figure size 432x288 with 1 Axes>"
      ]
     },
     "metadata": {
      "needs_background": "light"
     },
     "output_type": "display_data"
    },
    {
     "name": "stdout",
     "output_type": "stream",
     "text": [
      "High number of accidents were recorded in the year 2019\n"
     ]
    }
   ],
   "source": [
    "acci['year'] = pd.to_datetime(acci['Start_Time']).dt.year\n",
    "\n",
    "swma = acci['year'].value_counts().reset_index()\n",
    "swma=swma[swma['index'] >= 2016]\n",
    "swma=swma[swma['index'] < 2020]\n",
    "plt.scatter(swma['index'].astype(str),swma['year'])\n",
    "plt.plot(swma['index'].astype(str),swma['year'])\n",
    "plt.title('Accidents - Year wise')\n",
    "plt.xlabel('year')\n",
    "plt.ylabel('No.of Accidents')\n",
    "plt.gca().invert_xaxis()\n",
    "plt.show()\n",
    "print('High number of accidents were recorded in the year 2019')"
   ]
  },
  {
   "cell_type": "code",
   "execution_count": 3,
   "metadata": {
    "colab": {
     "base_uri": "https://localhost:8080/",
     "height": 232
    },
    "colab_type": "code",
    "id": "L8Lve-MwmuZD",
    "outputId": "a4cdf83d-e29f-4762-8159-39cb9d1ba25e"
   },
   "outputs": [
    {
     "data": {
      "image/png": "[encoded data removed]",
      "text/plain": [
       "<Figure size 432x288 with 1 Axes>"
      ]
     },
     "metadata": {
      "needs_background": "light"
     },
     "output_type": "display_data"
    },
    {
     "name": "stdout",
     "output_type": "stream",
     "text": [
      " Most accidents happend in California and 2019 were recorder the highest. \n",
      " South Carolina recorded almost same number of accidents in all years.\n",
      " Texas, Florida and NewYork had low numbers in 2016 but were high in other years.\n",
      "\n",
      "\n",
      "\n"
     ]
    },
    {
     "data": {
      "image/png": "[encoded data removed]",
      "text/plain": [
       "<Figure size 432x288 with 1 Axes>"
      ]
     },
     "metadata": {
      "needs_background": "light"
     },
     "output_type": "display_data"
    },
    {
     "name": "stdout",
     "output_type": "stream",
     "text": [
      "High number of accidents happened in Texas eventhough when the visibility was clear for 10 miles\n",
      "\n",
      "\n",
      "\n"
     ]
    },
    {
     "data": {
      "image/png": "[encoded data removed]",
      "text/plain": [
       "<Figure size 432x288 with 1 Axes>"
      ]
     },
     "metadata": {
      "needs_background": "light"
     },
     "output_type": "display_data"
    },
    {
     "name": "stdout",
     "output_type": "stream",
     "text": [
      "High number of accidents happened in NewYork when it was cloudy\n",
      "\n",
      "\n",
      "\n"
     ]
    }
   ],
   "source": [
    "swma = acci.query('year == \"2019\"')['State'].value_counts().reset_index()\n",
    "swma1 = acci.query('year == \"2018\"')['State'].value_counts().reset_index()\n",
    "swma2= acci.query('year == \"2017\"')['State'].value_counts().reset_index()\n",
    "swma3 = acci.query('year == \"2016\"')['State'].value_counts().reset_index()\n",
    "plt.scatter(swma['index'][:5],swma['State'][:5],label='2019')\n",
    "plt.scatter(swma1['index'][:5],swma1['State'][:5],label='2018')\n",
    "plt.scatter(swma2['index'][:5],swma2['State'][:5],label='2017')\n",
    "plt.scatter(swma3['index'][:5],swma3['State'][:5],label='2016')\n",
    "plt.title('Top 5 States with high accidents')\n",
    "plt.xlabel('States')\n",
    "plt.ylabel('No.of Accidents')\n",
    "plt.legend()\n",
    "plt.show()\n",
    "print(' Most accidents happend in California and 2019 were recorder the highest. \\n South Carolina recorded almost same number of accidents in all years.\\n Texas, Florida and NewYork had low numbers in 2016 but were high in other years.\\n\\n\\n')\n",
    "\n",
    "\n",
    "\n",
    "nyac = acci.query('State == \"NY\"')['Visibility(mi)'].value_counts().reset_index()\n",
    "plt.gca().invert_xaxis()\n",
    "plt.barh(nyac['index'][:7],nyac['Visibility(mi)'][:7])\n",
    "plt.title('Visibility during Accidents in Texas')\n",
    "plt.ylabel('States')\n",
    "plt.xlabel('No.of Accidents')\n",
    "nyac = acci.query('State == \"NY\"')['Visibility(mi)'].value_counts().reset_index()\n",
    "plt.gca().invert_xaxis()\n",
    "plt.barh(nyac['index'][:7],nyac['Visibility(mi)'][:7])\n",
    "plt.show()\n",
    "print('High number of accidents happened in Texas eventhough when the visibility was clear for 10 miles\\n\\n\\n')\n",
    "\n",
    "nyac = acci.query('State == \"NY\"')['Weather_Condition'].value_counts().reset_index()\n",
    "plt.gca().invert_xaxis()\n",
    "plt.barh(nyac['index'][:7],nyac['Weather_Condition'][:7])\n",
    "plt.title('Top weather conditions for accidents in New York')\n",
    "plt.ylabel('States')\n",
    "plt.xlabel('No.of Accidents')\n",
    "nyac = acci.query('State == \"NY\"')['Weather_Condition'].value_counts().reset_index()\n",
    "plt.gca().invert_xaxis()\n",
    "plt.barh(nyac['index'][:7],nyac['Weather_Condition'][:7])\n",
    "plt.gca().invert_yaxis()\n",
    "plt.show()\n",
    "print('High number of accidents happened in NewYork when it was cloudy\\n\\n\\n')\n",
    "\n"
   ]
  },
  {
   "cell_type": "markdown",
   "metadata": {
    "colab_type": "text",
    "id": "vTaUn8yq2ICx"
   },
   "source": [
    "**Applications of Analysis**\n",
    "\n",
    "The objective of this analysis is to understand the underlying causes of accidents in the US. It will also enable to find patterns in various factors like weather conditions, latitude longitude and location with respect to occurance of accidents. "
   ]
  },
  {
   "cell_type": "markdown",
   "metadata": {
    "colab_type": "text",
    "id": "HYFvOxVM95sC"
   },
   "source": [
    "**Entities who might be interested in analysis**\n",
    "\n",
    "1. Government can use this data to warn citizens against accident prone areas\n",
    "2. Construction agency can use this information to improve road conditions and reduce accidents\n",
    "3. Weather forecasting people can use this information to warn citizens of accident prone conditions\n",
    "4. Vehicle manufacturers can find uses of this analysis"
   ]
  },
  {
   "cell_type": "markdown",
   "metadata": {
    "colab_type": "text",
    "id": "j6tI5sGV2iIH"
   },
   "source": [
    "**Practical Use of Data Analysis :**\n",
    "\n",
    "The analysis of this data is useful in applications which focus on displaying real-time accident information. It could also be embedded into Google/Apple Maps as a new feature.\n",
    "Any investigation pertaining to reason for accidents in US can make use of this information.\n",
    "Analysis can be further continued to predict vehicle accidents (car, bikes)based on the available dataset using Machine Learning Algorithms.\n",
    "We can make use of various classification algorithms like KNN, Decision Tree, Random Forest etc from sklearn to predict the accident severity for each state in US. "
   ]
  },
  {
   "cell_type": "markdown",
   "metadata": {
    "colab_type": "text",
    "id": "BJ9Ts0wM3IjW"
   },
   "source": [
    "**Limitations :**\n",
    "\n",
    "This analysis does not give real time information\n",
    "\n",
    "**Improvements :**\n",
    "\n",
    "It can be improved by including more data using different websites or extracting using API"
   ]
  }
 ],
 "metadata": {
  "accelerator": "GPU",
  "colab": {
   "name": "Project.ipynb",
   "provenance": []
  },
  "kernelspec": {
   "display_name": "Python 3",
   "language": "python",
   "name": "python3"
  },
  "language_info": {
   "codemirror_mode": {
    "name": "ipython",
    "version": 3
   },
   "file_extension": ".py",
   "mimetype": "text/x-python",
   "name": "python",
   "nbconvert_exporter": "python",
   "pygments_lexer": "ipython3",
   "version": "3.7.3"
  }
 },
 "nbformat": 4,
 "nbformat_minor": 1
}
